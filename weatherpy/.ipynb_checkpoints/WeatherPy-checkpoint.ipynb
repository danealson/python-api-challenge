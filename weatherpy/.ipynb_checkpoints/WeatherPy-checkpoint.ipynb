{
 "cells": [
  {
   "cell_type": "markdown",
   "metadata": {},
   "source": [
    "# WeatherPy\n",
    "----\n",
    "\n",
    "#### Note\n",
    "* Instructions have been included for each segment. You do not have to follow them exactly, but they are included to help you think through the steps."
   ]
  },
  {
   "cell_type": "code",
   "execution_count": 6,
   "metadata": {},
   "outputs": [],
   "source": [
    "# Dependencies and Setup\n",
    "import matplotlib.pyplot as plt\n",
    "import pandas as pd\n",
    "import numpy as np\n",
    "import requests\n",
    "import time\n",
    "from scipy.stats import linregress\n",
    "\n",
    "# Import API key\n",
    "from api_keys import weather_api_key\n",
    "\n",
    "# Incorporated citipy to determine city based on latitude and longitude\n",
    "from citipy import citipy\n",
    "\n",
    "# Output File (CSV)\n",
    "output_data_file = \"output_data/cities.csv\"\n",
    "\n",
    "# Range of latitudes and longitudes\n",
    "lat_range = (-90, 90)\n",
    "lng_range = (-180, 180)\n",
    "\n",
    "#baseurl\n",
    "base_url =\"http://api.openweathermap.org/data/2.5/weather?\"\n",
    "\n",
    "query_url = base_url + \"&appid=\" + weather_api_key\n",
    "\n",
    "#Notation for API: api.openweathermap.org/data/2.5/weather?q={city name}&appid={API key}\n",
    "#print(query_url) -- checked tos ee if this works"
   ]
  },
  {
   "cell_type": "markdown",
   "metadata": {},
   "source": [
    "## Generate Cities List"
   ]
  },
  {
   "cell_type": "code",
   "execution_count": 7,
   "metadata": {},
   "outputs": [
    {
     "data": {
      "text/plain": [
       "646"
      ]
     },
     "execution_count": 7,
     "metadata": {},
     "output_type": "execute_result"
    }
   ],
   "source": [
    "# List for holding lat_lngs and cities\n",
    "lat_lngs = []\n",
    "cities = []\n",
    "\n",
    "# Create a set of random lat and lng combinations\n",
    "lats = np.random.uniform(lat_range[0], lat_range[1], size=1500)\n",
    "lngs = np.random.uniform(lng_range[0], lng_range[1], size=1500)\n",
    "lat_lngs = zip(lats, lngs)\n",
    "\n",
    "# Identify nearest city for each lat, lng combination\n",
    "for lat_lng in lat_lngs:\n",
    "    city = citipy.nearest_city(lat_lng[0], lat_lng[1]).city_name\n",
    "    \n",
    "    # If the city is unique, then add it to a our cities list\n",
    "    if city not in cities:\n",
    "        cities.append(city)\n",
    "\n",
    "# Print the city count to confirm sufficient count\n",
    "len(cities)"
   ]
  },
  {
   "cell_type": "markdown",
   "metadata": {},
   "source": [
    "### Perform API Calls\n",
    "* Perform a weather check on each city using a series of successive API calls.\n",
    "* Include a print log of each city as it'sbeing processed (with the city number and city name).\n"
   ]
  },
  {
   "cell_type": "code",
   "execution_count": null,
   "metadata": {},
   "outputs": [],
   "source": []
  },
  {
   "cell_type": "code",
   "execution_count": null,
   "metadata": {
    "scrolled": true
   },
   "outputs": [
    {
     "name": "stdout",
     "output_type": "stream",
     "text": [
      "Begining Data Retrieval\n",
      "-------------------------------\n",
      "Processing 2 of 646 | saskylakh\n",
      "Processing 3 of 646 | vaini\n",
      "Processing 4 of 646 | catia la mar\n",
      "nizhneyansk not found. Skipping...\n",
      "http://api.openweathermap.org/data/2.5/weather?&appid=4f87e58ba776f61e9be863d8aa3a5746&q=nizhneyansk\n",
      "kazalinsk not found. Skipping...\n",
      "http://api.openweathermap.org/data/2.5/weather?&appid=4f87e58ba776f61e9be863d8aa3a5746&q=kazalinsk\n",
      "Processing 5 of 646 | los llanos de aridane\n",
      "Processing 6 of 646 | rikitea\n",
      "Processing 7 of 646 | zhicheng\n",
      "Processing 8 of 646 | tasiilaq\n",
      "Processing 9 of 646 | kruisfontein\n",
      "kamenskoye not found. Skipping...\n",
      "http://api.openweathermap.org/data/2.5/weather?&appid=4f87e58ba776f61e9be863d8aa3a5746&q=kamenskoye\n",
      "Processing 10 of 646 | dikson\n",
      "Processing 11 of 646 | henties bay\n",
      "Processing 12 of 646 | buraydah\n",
      "Processing 13 of 646 | hasaki\n",
      "Processing 14 of 646 | touros\n",
      "Processing 15 of 646 | cape town\n",
      "Processing 16 of 646 | yar-sale\n",
      "Processing 17 of 646 | along\n",
      "illoqqortoormiut not found. Skipping...\n",
      "http://api.openweathermap.org/data/2.5/weather?&appid=4f87e58ba776f61e9be863d8aa3a5746&q=illoqqortoormiut\n",
      "Processing 18 of 646 | kalkar\n",
      "marcona not found. Skipping...\n",
      "http://api.openweathermap.org/data/2.5/weather?&appid=4f87e58ba776f61e9be863d8aa3a5746&q=marcona\n",
      "Processing 19 of 646 | walvis bay\n",
      "taolanaro not found. Skipping...\n",
      "http://api.openweathermap.org/data/2.5/weather?&appid=4f87e58ba776f61e9be863d8aa3a5746&q=taolanaro\n",
      "Processing 20 of 646 | bluff\n",
      "Processing 21 of 646 | kefar shemaryahu\n",
      "Processing 22 of 646 | port elizabeth\n",
      "Processing 23 of 646 | lavrentiya\n",
      "Processing 24 of 646 | saint george\n",
      "Processing 25 of 646 | mount vernon\n",
      "Processing 26 of 646 | nisia floresta\n",
      "Processing 27 of 646 | anadyr\n",
      "Processing 28 of 646 | chokurdakh\n",
      "Processing 29 of 646 | vredendal\n",
      "tumannyy not found. Skipping...\n",
      "http://api.openweathermap.org/data/2.5/weather?&appid=4f87e58ba776f61e9be863d8aa3a5746&q=tumannyy\n",
      "Processing 30 of 646 | tiksi\n",
      "Processing 31 of 646 | imatra\n",
      "Processing 32 of 646 | hermanus\n",
      "Processing 33 of 646 | hobart\n",
      "Processing 34 of 646 | busselton\n",
      "Processing 35 of 646 | sterling\n",
      "Processing 36 of 646 | salimpur\n",
      "Processing 37 of 646 | faya\n",
      "Processing 38 of 646 | ushuaia\n",
      "Processing 39 of 646 | ossora\n",
      "Processing 40 of 646 | santa cecilia\n",
      "Processing 41 of 646 | hithadhoo\n",
      "Processing 42 of 646 | lompoc\n",
      "Processing 43 of 646 | amahai\n",
      "Processing 44 of 646 | sao joao da barra\n",
      "Processing 45 of 646 | bintulu\n",
      "Processing 46 of 646 | beringovskiy\n",
      "Processing 47 of 646 | albany\n",
      "Processing 48 of 646 | alofi\n",
      "Processing 49 of 646 | sitka\n",
      "Processing 50 of 646 | cidreira\n",
      "Processing 51 of 646 | ozernovskiy\n",
      "labutta not found. Skipping...\n",
      "http://api.openweathermap.org/data/2.5/weather?&appid=4f87e58ba776f61e9be863d8aa3a5746&q=labutta\n",
      "Processing 52 of 646 | hilo\n",
      "Processing 53 of 646 | mar del plata\n",
      "Processing 54 of 646 | san rafael\n",
      "Processing 55 of 646 | lebu\n",
      "Processing 56 of 646 | new norfolk\n",
      "Processing 57 of 646 | chegutu\n",
      "Processing 58 of 646 | jamestown\n",
      "Processing 59 of 646 | mahajanga\n",
      "Processing 60 of 646 | coquimbo\n",
      "Processing 61 of 646 | geraldton\n",
      "Processing 62 of 646 | mahebourg\n",
      "Processing 63 of 646 | nha trang\n",
      "Processing 64 of 646 | port lincoln\n",
      "Processing 65 of 646 | tres passos\n",
      "Processing 66 of 646 | kasulu\n",
      "Processing 67 of 646 | narsaq\n",
      "Processing 68 of 646 | poum\n",
      "Processing 69 of 646 | abdulino\n",
      "Processing 70 of 646 | khatanga\n",
      "solovetskiy not found. Skipping...\n",
      "http://api.openweathermap.org/data/2.5/weather?&appid=4f87e58ba776f61e9be863d8aa3a5746&q=solovetskiy\n",
      "Processing 71 of 646 | kalino\n",
      "Processing 72 of 646 | sobolevo\n",
      "Processing 73 of 646 | norman wells\n",
      "Processing 74 of 646 | esperance\n",
      "Processing 75 of 646 | necochea\n",
      "Processing 76 of 646 | avarua\n",
      "Processing 77 of 646 | port hedland\n",
      "Processing 78 of 646 | punta arenas\n",
      "Processing 79 of 646 | soresina\n",
      "Processing 80 of 646 | ketchikan\n",
      "Processing 81 of 646 | caravelas\n",
      "saleaula not found. Skipping...\n",
      "http://api.openweathermap.org/data/2.5/weather?&appid=4f87e58ba776f61e9be863d8aa3a5746&q=saleaula\n",
      "Processing 82 of 646 | winnemucca\n",
      "Processing 83 of 646 | huron\n",
      "Processing 84 of 646 | salalah\n",
      "Processing 85 of 646 | butaritari\n",
      "Processing 86 of 646 | coihueco\n",
      "Processing 87 of 646 | constitucion\n",
      "Processing 88 of 646 | katsuura\n",
      "Processing 89 of 646 | airai\n",
      "grand river south east not found. Skipping...\n",
      "http://api.openweathermap.org/data/2.5/weather?&appid=4f87e58ba776f61e9be863d8aa3a5746&q=grand river south east\n",
      "Processing 90 of 646 | vallenar\n",
      "Processing 91 of 646 | nikolskoye\n",
      "Processing 92 of 646 | haines junction\n",
      "Processing 93 of 646 | port alfred\n",
      "Processing 94 of 646 | tuktoyaktuk\n",
      "Processing 95 of 646 | mataura\n",
      "Processing 96 of 646 | guarapari\n",
      "sentyabrskiy not found. Skipping...\n",
      "http://api.openweathermap.org/data/2.5/weather?&appid=4f87e58ba776f61e9be863d8aa3a5746&q=sentyabrskiy\n",
      "Processing 97 of 646 | rapid valley\n",
      "Processing 98 of 646 | oro valley\n",
      "Processing 99 of 646 | ngunguru\n",
      "Processing 100 of 646 | zarautz\n",
      "Processing 101 of 646 | camacha\n",
      "Processing 102 of 646 | samarai\n",
      "Processing 103 of 646 | panaba\n",
      "palabuhanratu not found. Skipping...\n",
      "http://api.openweathermap.org/data/2.5/weather?&appid=4f87e58ba776f61e9be863d8aa3a5746&q=palabuhanratu\n",
      "Processing 104 of 646 | harrison\n",
      "Processing 105 of 646 | djenne\n",
      "Processing 106 of 646 | groningen\n",
      "Processing 107 of 646 | chalmette\n",
      "Processing 108 of 646 | talnakh\n",
      "Processing 109 of 646 | usatove\n",
      "Processing 110 of 646 | bafq\n",
      "Processing 111 of 646 | riyadh\n",
      "Processing 112 of 646 | leningradskiy\n",
      "Processing 113 of 646 | kampot\n",
      "Processing 114 of 646 | surt\n",
      "Processing 115 of 646 | esna\n",
      "Processing 116 of 646 | asau\n",
      "umzimvubu not found. Skipping...\n",
      "http://api.openweathermap.org/data/2.5/weather?&appid=4f87e58ba776f61e9be863d8aa3a5746&q=umzimvubu\n",
      "Processing 117 of 646 | obo\n",
      "Processing 118 of 646 | dudinka\n",
      "Processing 119 of 646 | mlyniv\n",
      "Processing 120 of 646 | ziarat\n",
      "Processing 121 of 646 | sedro-woolley\n",
      "Processing 122 of 646 | qaanaaq\n",
      "Processing 123 of 646 | tual\n",
      "Processing 124 of 646 | ambovombe\n",
      "Processing 125 of 646 | novi sanzhary\n",
      "Processing 126 of 646 | torbay\n",
      "Processing 127 of 646 | kidal\n",
      "Processing 128 of 646 | chalisgaon\n",
      "Processing 129 of 646 | puerto ayora\n",
      "belushya guba not found. Skipping...\n",
      "http://api.openweathermap.org/data/2.5/weather?&appid=4f87e58ba776f61e9be863d8aa3a5746&q=belushya guba\n",
      "Processing 130 of 646 | kieta\n",
      "attawapiskat not found. Skipping...\n",
      "http://api.openweathermap.org/data/2.5/weather?&appid=4f87e58ba776f61e9be863d8aa3a5746&q=attawapiskat\n",
      "Processing 131 of 646 | santa isabel\n",
      "Processing 132 of 646 | bilibino\n",
      "Processing 133 of 646 | nuuk\n",
      "Processing 134 of 646 | atuona\n",
      "Processing 135 of 646 | hualmay\n",
      "Processing 136 of 646 | isangel\n",
      "Processing 137 of 646 | kjopsvik\n",
      "Processing 138 of 646 | tuatapere\n",
      "Processing 139 of 646 | saint-augustin\n",
      "Processing 140 of 646 | georgetown\n",
      "Processing 141 of 646 | la reforma\n",
      "Processing 142 of 646 | katima mulilo\n",
      "Processing 143 of 646 | kahului\n",
      "Processing 144 of 646 | kumluca\n",
      "Processing 145 of 646 | aykhal\n",
      "Processing 146 of 646 | vuktyl\n",
      "Processing 147 of 646 | kapaa\n",
      "Processing 148 of 646 | zhangye\n",
      "barentsburg not found. Skipping...\n",
      "http://api.openweathermap.org/data/2.5/weather?&appid=4f87e58ba776f61e9be863d8aa3a5746&q=barentsburg\n",
      "Processing 149 of 646 | mollendo\n",
      "Processing 150 of 646 | eureka\n",
      "Processing 151 of 646 | kodiak\n",
      "Processing 152 of 646 | saint-philippe\n",
      "Processing 153 of 646 | ipixuna\n",
      "Processing 154 of 646 | fairbanks\n",
      "Processing 155 of 646 | ewa beach\n",
      "Processing 156 of 646 | niono\n",
      "Processing 157 of 646 | kaitangata\n",
      "Processing 158 of 646 | maniwaki\n",
      "Processing 159 of 646 | tongren\n",
      "Processing 160 of 646 | waipawa\n",
      "Processing 161 of 646 | marzuq\n",
      "Processing 162 of 646 | yeppoon\n",
      "Processing 163 of 646 | viedma\n",
      "Processing 164 of 646 | payo\n",
      "Processing 165 of 646 | mehamn\n",
      "Processing 166 of 646 | ahipara\n",
      "Processing 167 of 646 | bathsheba\n",
      "lolua not found. Skipping...\n",
      "http://api.openweathermap.org/data/2.5/weather?&appid=4f87e58ba776f61e9be863d8aa3a5746&q=lolua\n",
      "Processing 168 of 646 | nome\n",
      "Processing 169 of 646 | ancud\n",
      "Processing 170 of 646 | barrow\n",
      "Processing 171 of 646 | kavieng\n",
      "Processing 172 of 646 | kudahuvadhoo\n",
      "Processing 173 of 646 | belmonte\n",
      "warqla not found. Skipping...\n",
      "http://api.openweathermap.org/data/2.5/weather?&appid=4f87e58ba776f61e9be863d8aa3a5746&q=warqla\n",
      "Processing 174 of 646 | pembroke\n"
     ]
    },
    {
     "name": "stdout",
     "output_type": "stream",
     "text": [
      "Processing 175 of 646 | saint anthony\n",
      "Processing 176 of 646 | kaputa\n",
      "Processing 177 of 646 | harper\n",
      "Processing 178 of 646 | gelibolu\n",
      "Processing 179 of 646 | upernavik\n",
      "Processing 180 of 646 | olinda\n",
      "Processing 181 of 646 | vrangel\n",
      "Processing 182 of 646 | arraial do cabo\n",
      "Processing 183 of 646 | itoman\n",
      "burica not found. Skipping...\n",
      "http://api.openweathermap.org/data/2.5/weather?&appid=4f87e58ba776f61e9be863d8aa3a5746&q=burica\n",
      "Processing 184 of 646 | lalsot\n",
      "Processing 185 of 646 | sao filipe\n",
      "Processing 186 of 646 | bairiki\n",
      "Processing 187 of 646 | mala danylivka\n",
      "Processing 188 of 646 | kangaatsiaq\n",
      "Processing 189 of 646 | cockburn town\n",
      "Processing 190 of 646 | pimentel\n",
      "Processing 191 of 646 | boa viagem\n",
      "Processing 192 of 646 | barra do garcas\n",
      "Processing 193 of 646 | faanui\n",
      "Processing 194 of 646 | sisimiut\n",
      "Processing 195 of 646 | kedougou\n",
      "Processing 196 of 646 | vila franca do campo\n",
      "Processing 197 of 646 | porto novo\n",
      "Processing 198 of 646 | lata\n",
      "Processing 199 of 646 | matara\n",
      "Processing 200 of 646 | alamosa\n",
      "Processing 201 of 646 | kidderminster\n",
      "Processing 202 of 646 | pevek\n",
      "Processing 203 of 646 | grand gaube\n",
      "Processing 204 of 646 | diffa\n",
      "Processing 205 of 646 | fortuna\n",
      "Processing 206 of 646 | vila velha\n",
      "Processing 207 of 646 | grindavik\n",
      "Processing 208 of 646 | meulaboh\n",
      "Processing 209 of 646 | bengkulu\n",
      "Processing 210 of 646 | codrington\n",
      "Processing 211 of 646 | mount isa\n",
      "Processing 212 of 646 | rafraf\n",
      "Processing 213 of 646 | roald\n",
      "Processing 214 of 646 | dicabisagan\n",
      "Processing 215 of 646 | adrar\n",
      "Processing 216 of 646 | armidale\n",
      "Processing 217 of 646 | castro\n",
      "Processing 218 of 646 | thompson\n",
      "Processing 219 of 646 | romitan\n",
      "Processing 220 of 646 | vestmannaeyjar\n",
      "Processing 221 of 646 | biryusinsk\n",
      "Processing 222 of 646 | muros\n",
      "tidore not found. Skipping...\n",
      "http://api.openweathermap.org/data/2.5/weather?&appid=4f87e58ba776f61e9be863d8aa3a5746&q=tidore\n",
      "Processing 223 of 646 | sibolga\n",
      "Processing 224 of 646 | mineiros\n",
      "Processing 225 of 646 | veraval\n",
      "Processing 226 of 646 | kinablangan\n",
      "Processing 227 of 646 | berlevag\n",
      "Processing 228 of 646 | carnarvon\n",
      "Processing 229 of 646 | carutapera\n",
      "Processing 230 of 646 | yellowknife\n",
      "Processing 231 of 646 | moncton\n",
      "Processing 232 of 646 | rundu\n",
      "Processing 233 of 646 | nikolayevsk-na-amure\n",
      "Processing 234 of 646 | shahr-e babak\n",
      "Processing 235 of 646 | sarishabari\n",
      "Processing 236 of 646 | kushima\n"
     ]
    }
   ],
   "source": [
    "#data\n",
    "\n",
    "city_name = []\n",
    "lat = []\n",
    "long = []\n",
    "max_temp = []\n",
    "humidity = []\n",
    "cloudiness = []\n",
    "windspeed = []\n",
    "country = []\n",
    "date = []\n",
    "\n",
    "count = 1\n",
    "total_cities = len(cities)\n",
    "\n",
    "\n",
    "print(\"Begining Data Retrieval\")\n",
    "print(\"-------------------------------\")\n",
    "\n",
    "for city in cities:\n",
    "    try:   \n",
    "        response = requests.get(query_url + \"&q=\" + city).json()\n",
    "        city_name.append(response['name'])\n",
    "        lat.append(response['coord']['lat'])\n",
    "        #long.append(response['coord']['lon'])\n",
    "        #max_temp.append(response['main']['temp_max'])\n",
    "        #humidity.append(response['main']['humidity'])\n",
    "        #cloudiness.append(response['clouds']['all'])\n",
    "        #windspeed.append(response['wind']['speed'])\n",
    "        #country.append(response['sys']['country'])\n",
    "        #date.append(response['dt'])\n",
    "\n",
    "        count = count + 1\n",
    "\n",
    "        print(f\"Processing {count} of {total_cities} | {city}\")\n",
    "    except:\n",
    "        print(f\"{city} not found. Skipping...\")\n",
    "        print(f\"{query_url}&q={city}\")\n",
    "\n"
   ]
  },
  {
   "cell_type": "markdown",
   "metadata": {},
   "source": [
    "### Convert Raw Data to DataFrame\n",
    "* Export the city data into a .csv.\n",
    "* Display the DataFrame"
   ]
  },
  {
   "cell_type": "code",
   "execution_count": null,
   "metadata": {},
   "outputs": [],
   "source": [
    "weather_dict = {}"
   ]
  },
  {
   "cell_type": "code",
   "execution_count": null,
   "metadata": {},
   "outputs": [],
   "source": []
  },
  {
   "cell_type": "markdown",
   "metadata": {},
   "source": [
    "## Inspect the data and remove the cities where the humidity > 100%.\n",
    "----\n",
    "Skip this step if there are no cities that have humidity > 100%. "
   ]
  },
  {
   "cell_type": "code",
   "execution_count": null,
   "metadata": {},
   "outputs": [],
   "source": []
  },
  {
   "cell_type": "code",
   "execution_count": 4,
   "metadata": {},
   "outputs": [],
   "source": [
    "#  Get the indices of cities that have humidity over 100%.\n"
   ]
  },
  {
   "cell_type": "code",
   "execution_count": 5,
   "metadata": {},
   "outputs": [],
   "source": [
    "# Make a new DataFrame equal to the city data to drop all humidity outliers by index.\n",
    "# Passing \"inplace=False\" will make a copy of the city_data DataFrame, which we call \"clean_city_data\".\n"
   ]
  },
  {
   "cell_type": "code",
   "execution_count": null,
   "metadata": {},
   "outputs": [],
   "source": [
    "\n"
   ]
  },
  {
   "cell_type": "markdown",
   "metadata": {},
   "source": [
    "## Plotting the Data\n",
    "* Use proper labeling of the plots using plot titles (including date of analysis) and axes labels.\n",
    "* Save the plotted figures as .pngs."
   ]
  },
  {
   "cell_type": "markdown",
   "metadata": {},
   "source": [
    "## Latitude vs. Temperature Plot"
   ]
  },
  {
   "cell_type": "code",
   "execution_count": null,
   "metadata": {
    "scrolled": true
   },
   "outputs": [],
   "source": []
  },
  {
   "cell_type": "markdown",
   "metadata": {},
   "source": [
    "## Latitude vs. Humidity Plot"
   ]
  },
  {
   "cell_type": "code",
   "execution_count": null,
   "metadata": {},
   "outputs": [],
   "source": []
  },
  {
   "cell_type": "markdown",
   "metadata": {},
   "source": [
    "## Latitude vs. Cloudiness Plot"
   ]
  },
  {
   "cell_type": "code",
   "execution_count": null,
   "metadata": {},
   "outputs": [],
   "source": []
  },
  {
   "cell_type": "markdown",
   "metadata": {},
   "source": [
    "## Latitude vs. Wind Speed Plot"
   ]
  },
  {
   "cell_type": "code",
   "execution_count": null,
   "metadata": {},
   "outputs": [],
   "source": []
  },
  {
   "cell_type": "markdown",
   "metadata": {},
   "source": [
    "## Linear Regression"
   ]
  },
  {
   "cell_type": "code",
   "execution_count": null,
   "metadata": {},
   "outputs": [],
   "source": []
  },
  {
   "cell_type": "markdown",
   "metadata": {},
   "source": [
    "####  Northern Hemisphere - Max Temp vs. Latitude Linear Regression"
   ]
  },
  {
   "cell_type": "code",
   "execution_count": null,
   "metadata": {},
   "outputs": [],
   "source": []
  },
  {
   "cell_type": "markdown",
   "metadata": {},
   "source": [
    "####  Southern Hemisphere - Max Temp vs. Latitude Linear Regression"
   ]
  },
  {
   "cell_type": "code",
   "execution_count": null,
   "metadata": {},
   "outputs": [],
   "source": []
  },
  {
   "cell_type": "markdown",
   "metadata": {},
   "source": [
    "####  Northern Hemisphere - Humidity (%) vs. Latitude Linear Regression"
   ]
  },
  {
   "cell_type": "code",
   "execution_count": null,
   "metadata": {},
   "outputs": [],
   "source": []
  },
  {
   "cell_type": "markdown",
   "metadata": {},
   "source": [
    "####  Southern Hemisphere - Humidity (%) vs. Latitude Linear Regression"
   ]
  },
  {
   "cell_type": "code",
   "execution_count": null,
   "metadata": {},
   "outputs": [],
   "source": []
  },
  {
   "cell_type": "markdown",
   "metadata": {},
   "source": [
    "####  Northern Hemisphere - Cloudiness (%) vs. Latitude Linear Regression"
   ]
  },
  {
   "cell_type": "code",
   "execution_count": null,
   "metadata": {},
   "outputs": [],
   "source": []
  },
  {
   "cell_type": "markdown",
   "metadata": {},
   "source": [
    "####  Southern Hemisphere - Cloudiness (%) vs. Latitude Linear Regression"
   ]
  },
  {
   "cell_type": "code",
   "execution_count": null,
   "metadata": {},
   "outputs": [],
   "source": []
  },
  {
   "cell_type": "markdown",
   "metadata": {},
   "source": [
    "####  Northern Hemisphere - Wind Speed (mph) vs. Latitude Linear Regression"
   ]
  },
  {
   "cell_type": "code",
   "execution_count": null,
   "metadata": {},
   "outputs": [],
   "source": []
  },
  {
   "cell_type": "markdown",
   "metadata": {},
   "source": [
    "####  Southern Hemisphere - Wind Speed (mph) vs. Latitude Linear Regression"
   ]
  },
  {
   "cell_type": "code",
   "execution_count": null,
   "metadata": {},
   "outputs": [],
   "source": []
  },
  {
   "cell_type": "code",
   "execution_count": null,
   "metadata": {},
   "outputs": [],
   "source": []
  }
 ],
 "metadata": {
  "anaconda-cloud": {},
  "kernel_info": {
   "name": "python3"
  },
  "kernelspec": {
   "display_name": "Python 3",
   "language": "python",
   "name": "python3"
  },
  "language_info": {
   "codemirror_mode": {
    "name": "ipython",
    "version": 3
   },
   "file_extension": ".py",
   "mimetype": "text/x-python",
   "name": "python",
   "nbconvert_exporter": "python",
   "pygments_lexer": "ipython3",
   "version": "3.8.8"
  },
  "latex_envs": {
   "LaTeX_envs_menu_present": true,
   "autoclose": false,
   "autocomplete": true,
   "bibliofile": "biblio.bib",
   "cite_by": "apalike",
   "current_citInitial": 1,
   "eqLabelWithNumbers": true,
   "eqNumInitial": 1,
   "hotkeys": {
    "equation": "Ctrl-E",
    "itemize": "Ctrl-I"
   },
   "labels_anchors": false,
   "latex_user_defs": false,
   "report_style_numbering": false,
   "user_envs_cfg": false
  },
  "nteract": {
   "version": "0.12.3"
  }
 },
 "nbformat": 4,
 "nbformat_minor": 2
}
